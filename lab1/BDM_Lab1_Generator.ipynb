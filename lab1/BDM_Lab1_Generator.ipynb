{
 "cells": [
  {
   "cell_type": "markdown",
   "metadata": {},
   "source": [
    "# Practicing Python's Generator\n",
    "\n",
    "In this exercise, we are going to extract *keywords* from Yelp's business about info (which could be extracted from Yelp Fusion API). In our setting, *keywords* are defined as phrases that contain two or more words starting with an uppercase letter (e.g. \"San Francisco\", \"Los Angeles\", etc. but not \"California\"). For example, keywords are highlighted below in AnQi Bistro's business about info.\n",
    "\n",
    "> **House of An** is a portfolio of restaurants and a catering company all featuring the **Euro-Asian** fusion cuisine of **Master Chef Helene \"Mama\" An**. The company is run by the close-knit members of the An family, which includes Helene's five daughters and now, a new generation of their offspring. The company began with **Thanh Long in San Francisco**, which opened in 1971, bringing **Euro-Vietnamese** food to the city. When **Crustacean San Francisco** opened, in 1991, the **San Francisco Chronicle** newspaper called it the first Asian fusion restaurant, and dubbed **Helene An** the **\"Mother of Fusion.\"** In 1997, Helene's daughter **Elizabeth An** took the idea upscale by opening **Crustacean Restaurant in Beverly Hills**, which quickly attracted raves reviews in national press and a sizable celebrity clientele.*\n",
    "\n",
    "Note that stopwords such as ``the``, ``of``, ``in``, ``when`` may be included in the keywords **BUT** not at the beginning or end of the keywords. This is why **House of An** is okay, but not the **<s>the</s> San Francisco Chronicle**. The expected output of the above text is:\n",
    "\n",
    "```\n",
    "['House of An',\n",
    " 'Euro Asian',\n",
    " 'Master Chef Helene Mama An',\n",
    " 'Thanh Long in San Francisco',\n",
    " 'Euro Vietnamese',\n",
    " 'Crustacean San Francisco',\n",
    " 'San Francisco Chronicle',\n",
    " 'Helene An the Mother of Fusion',\n",
    " 'Elizabeth An',\n",
    " 'Crustacean Restaurant in Beverly Hills']\n",
    " ```\n",
    " \n",
    " In the next 5 tasks we will be walk through the steps to achieve this output.\n"
   ]
  },
  {
   "cell_type": "markdown",
   "metadata": {},
   "source": [
    "## Step 1\n",
    "First, we split the about-text into sentences, and subsequently, splitting each sentence into words. We are going to [Python's regex split](https://docs.python.org/3/library/re.html#re.split) to turn sentences into words. This approach is more comprehensive than string split (that uses for splitting the text into sentences) because it considers a wider set of space characters. There is no work to be done in this step, just note the input sentences and their corresponding words."
   ]
  },
  {
   "cell_type": "code",
   "execution_count": 4,
   "metadata": {},
   "outputs": [
    {
     "name": "stdout",
     "output_type": "stream",
     "text": [
      "\n",
      "'House of An is a portfolio of restaurants and a catering \n",
      "company all featuring the Euro-Asian fusion cuisine of Master Chef\n",
      "Helene \"Mama\" An'\n",
      "['House', 'of', 'An', 'is', 'a', 'portfolio', 'of', 'restaurants', 'and', 'a', 'catering', 'company', 'all', 'featuring', 'the', 'Euro', 'Asian', 'fusion', 'cuisine', 'of', 'Master', 'Chef', 'Helene', 'Mama', 'An']\n",
      "\n",
      "' The company is run by the close-knit members of\n",
      "the An family, which includes Helene's five daughters and now, a\n",
      "new generation of their offspring'\n",
      "['The', 'company', 'is', 'run', 'by', 'the', 'close', 'knit', 'members', 'of', 'the', 'An', 'family', 'which', 'includes', 'Helene', 's', 'five', 'daughters', 'and', 'now', 'a', 'new', 'generation', 'of', 'their', 'offspring']\n",
      "\n",
      "' The company began with Thanh\n",
      "Long in San Francisco, which opened in 1971, bringing\n",
      "Euro-Vietnamese food to the city'\n",
      "['The', 'company', 'began', 'with', 'Thanh', 'Long', 'in', 'San', 'Francisco', 'which', 'opened', 'in', '1971', 'bringing', 'Euro', 'Vietnamese', 'food', 'to', 'the', 'city']\n",
      "\n",
      "' When Crustacean San Francisco\n",
      "opened, in 1991, the San Francisco Chronicle newspaper called it\n",
      "the first Asian fusion restaurant, and dubbed Helene An\n",
      "the \"Mother of Fusion'\n",
      "['When', 'Crustacean', 'San', 'Francisco', 'opened', 'in', '1991', 'the', 'San', 'Francisco', 'Chronicle', 'newspaper', 'called', 'it', 'the', 'first', 'Asian', 'fusion', 'restaurant', 'and', 'dubbed', 'Helene', 'An', 'the', 'Mother', 'of', 'Fusion']\n",
      "\n",
      "'\" In 1997, Helene's daughter Elizabeth An\n",
      "took the idea upscale by opening Crustacean Restaurant in Beverly\n",
      "Hills, which quickly attracted raves reviews in national press\n",
      "and a sizable celebrity clientele'\n",
      "['In', '1997', 'Helene', 's', 'daughter', 'Elizabeth', 'An', 'took', 'the', 'idea', 'upscale', 'by', 'opening', 'Crustacean', 'Restaurant', 'in', 'Beverly', 'Hills', 'which', 'quickly', 'attracted', 'raves', 'reviews', 'in', 'national', 'press', 'and', 'a', 'sizable', 'celebrity', 'clientele']\n",
      "\n",
      "''\n",
      "[]\n"
     ]
    }
   ],
   "source": [
    "about = '''House of An is a portfolio of restaurants and a catering \n",
    "company all featuring the Euro-Asian fusion cuisine of Master Chef\n",
    "Helene \"Mama\" An. The company is run by the close-knit members of\n",
    "the An family, which includes Helene's five daughters and now, a\n",
    "new generation of their offspring. The company began with Thanh\n",
    "Long in San Francisco, which opened in 1971, bringing\n",
    "Euro-Vietnamese food to the city. When Crustacean San Francisco\n",
    "opened, in 1991, the San Francisco Chronicle newspaper called it\n",
    "the first Asian fusion restaurant, and dubbed Helene An\n",
    "the \"Mother of Fusion.\" In 1997, Helene's daughter Elizabeth An\n",
    "took the idea upscale by opening Crustacean Restaurant in Beverly\n",
    "Hills, which quickly attracted raves reviews in national press\n",
    "and a sizable celebrity clientele.'''\n",
    "\n",
    "import re\n",
    "for sentence in about.split('.'):\n",
    "    words = re.findall(r'\\w+', sentence)\n",
    "    print(f\"\\n'{sentence}'\")\n",
    "    print(words)"
   ]
  },
  {
   "cell_type": "markdown",
   "metadata": {},
   "source": [
    "## Step 2\n",
    "Next, we are going to replace all words that do not start with an upper letter with a `*`. Please write a generator that takes a list of words and dynamically replace lowercase-starting words with a `*`. You may only edit the `lowerToStars` generator below. The rest should stay the same. Note that `lowerToStar` must return a generator, aka. using a `yield` statement. The expected output is also provided below."
   ]
  },
  {
   "cell_type": "code",
   "execution_count": 2,
   "metadata": {},
   "outputs": [
    {
     "name": "stdout",
     "output_type": "stream",
     "text": [
      "['House', '*', 'An', '*', '*', '*', '*', '*', '*', '*', '*', '*', '*', '*', '*', 'Euro', 'Asian', '*', '*', '*', 'Master', 'Chef', 'Helene', 'Mama', 'An']\n",
      "['The', '*', '*', '*', '*', '*', '*', '*', '*', '*', '*', 'An', '*', '*', '*', 'Helene', '*', '*', '*', '*', '*', '*', '*', '*', '*', '*', '*']\n",
      "['The', '*', '*', '*', 'Thanh', 'Long', '*', 'San', 'Francisco', '*', '*', '*', '*', '*', 'Euro', 'Vietnamese', '*', '*', '*', '*']\n",
      "['When', 'Crustacean', 'San', 'Francisco', '*', '*', '*', '*', 'San', 'Francisco', 'Chronicle', '*', '*', '*', '*', '*', 'Asian', '*', '*', '*', '*', 'Helene', 'An', '*', 'Mother', '*', 'Fusion']\n",
      "['In', '*', 'Helene', '*', '*', 'Elizabeth', 'An', '*', '*', '*', '*', '*', '*', 'Crustacean', 'Restaurant', '*', 'Beverly', 'Hills', '*', '*', '*', '*', '*', '*', '*', '*', '*', '*', '*', '*', '*']\n",
      "[]\n"
     ]
    }
   ],
   "source": [
    "import re\n",
    "\n",
    "def lowerToStar(words):\n",
    "    for w in words:\n",
    "        yield w if w[0].isupper() else '*'\n",
    "\n",
    "for sentence in about.split('.'):\n",
    "    words = re.findall(r'\\w+', sentence)\n",
    "    print(list(lowerToStar(words)))"
   ]
  },
  {
   "cell_type": "markdown",
   "metadata": {},
   "source": [
    "## Step 3\n",
    "In this step, we will remove all consecutive `*` elements with only a single `*`. Please complete the `removeStars` generator that takes your Step-2 generator and output a new one without consecutive `*`. Again, you must use `yield` inside `removeStars`."
   ]
  },
  {
   "cell_type": "code",
   "execution_count": 3,
   "metadata": {},
   "outputs": [
    {
     "name": "stdout",
     "output_type": "stream",
     "text": [
      "['House', '*', 'An', '*', 'Euro', 'Asian', '*', 'Master', 'Chef', 'Helene', 'Mama', 'An']\n",
      "['The', '*', 'An', '*', 'Helene', '*']\n",
      "['The', '*', 'Thanh', 'Long', '*', 'San', 'Francisco', '*', 'Euro', 'Vietnamese', '*']\n",
      "['When', 'Crustacean', 'San', 'Francisco', '*', 'San', 'Francisco', 'Chronicle', '*', 'Asian', '*', 'Helene', 'An', '*', 'Mother', '*', 'Fusion']\n",
      "['In', '*', 'Helene', '*', 'Elizabeth', 'An', '*', 'Crustacean', 'Restaurant', '*', 'Beverly', 'Hills', '*']\n",
      "[]\n"
     ]
    }
   ],
   "source": [
    "import re\n",
    "\n",
    "def lowerToStar(words):\n",
    "    for w in words:\n",
    "        yield w if w[0].isupper() else '*'\n",
    "\n",
    "def removeStars(words):\n",
    "    prev = None\n",
    "    for w in words:\n",
    "        if w != '*' or prev != '*':\n",
    "            yield w\n",
    "        prev = w\n",
    "\n",
    "for sentence in about.split('.'):\n",
    "    words = re.findall(r'\\w+', sentence)\n",
    "    print(list(removeStars(lowerToStar(words))))"
   ]
  },
  {
   "cell_type": "markdown",
   "metadata": {},
   "source": [
    "## Step 4\n",
    "In this step, we need to walk through the list of potential keywords from Step-3, from left to write, and combine consecutive words into a list of words separated by `*`. We will also remove all `*` in this steps. Please perform this task in the `combineWords` generator."
   ]
  },
  {
   "cell_type": "code",
   "execution_count": 4,
   "metadata": {},
   "outputs": [
    {
     "name": "stdout",
     "output_type": "stream",
     "text": [
      "[['House'], ['An'], ['Euro', 'Asian'], ['Master', 'Chef', 'Helene', 'Mama', 'An']]\n",
      "[['The'], ['An'], ['Helene']]\n",
      "[['The'], ['Thanh', 'Long'], ['San', 'Francisco'], ['Euro', 'Vietnamese']]\n",
      "[['When', 'Crustacean', 'San', 'Francisco'], ['San', 'Francisco', 'Chronicle'], ['Asian'], ['Helene', 'An'], ['Mother'], ['Fusion']]\n",
      "[['In'], ['Helene'], ['Elizabeth', 'An'], ['Crustacean', 'Restaurant'], ['Beverly', 'Hills']]\n",
      "[]\n"
     ]
    }
   ],
   "source": [
    "import re\n",
    "\n",
    "def lowerToStar(words):\n",
    "    for w in words:\n",
    "        yield w if w[0].isupper() else '*'\n",
    "\n",
    "def removeStars(words):\n",
    "    prev = None\n",
    "    for w in words:\n",
    "        if w != '*' or prev != '*':\n",
    "            yield w\n",
    "        prev = w\n",
    "\n",
    "def combineWords(words):\n",
    "    sublist = []\n",
    "    for w in words:\n",
    "        if word == '*':\n",
    "            yield sublist\n",
    "            sublist = []\n",
    "        else:\n",
    "            sublist.append(w)\n",
    "    if len(sublist) > 0:\n",
    "        yield sublist\n",
    "\n",
    "for sentence in about.split('.'):\n",
    "    words = re.findall(r'\\w+', sentence)\n",
    "    print(list(combineWords(removeStars(lowerToStar(words)))))\n"
   ]
  },
  {
   "cell_type": "markdown",
   "metadata": {},
   "source": [
    "## Step 5\n",
    "Please modify your `combineWords` generator in Step-4 to output a string (aka. joining all words by a space) instead of outputing a list."
   ]
  },
  {
   "cell_type": "code",
   "execution_count": 5,
   "metadata": {},
   "outputs": [
    {
     "name": "stdout",
     "output_type": "stream",
     "text": [
      "['House', 'An', 'Euro Asian', 'Master Chef Helene Mama An']\n",
      "['The', 'An', 'Helene']\n",
      "['The', 'Thanh Long', 'San Francisco', 'Euro Vietnamese']\n",
      "['When Crustacean San Francisco', 'San Francisco Chronicle', 'Asian', 'Helene An', 'Mother', 'Fusion']\n",
      "['In', 'Helene', 'Elizabeth An', 'Crustacean Restaurant', 'Beverly Hills']\n",
      "[]\n"
     ]
    }
   ],
   "source": [
    "import re\n",
    "\n",
    "def lowerToStar(words):\n",
    "    for w in words:\n",
    "        yield w if w[0].isupper() else '*'\n",
    "\n",
    "def removeStars(words):\n",
    "    prev = None\n",
    "    for w in words:\n",
    "        if w != '*' or prev != '*':\n",
    "            yield w\n",
    "        prev = w\n",
    "\n",
    "def combineWords(words):\n",
    "    sublist = []\n",
    "    for w in words:\n",
    "        if word == '*':\n",
    "            yield ' '.join(sublist)\n",
    "            sublist = []\n",
    "        else:\n",
    "            sublist.append(w)\n",
    "    if len(sublist) > 0:\n",
    "        yield ' '.join(sublist)\n",
    "\n",
    "for sentence in about.split('.'):\n",
    "    words = re.findall(r'\\w+', sentence)\n",
    "    print(list(combineWords(removeStars(lowerToStar(words)))))"
   ]
  },
  {
   "cell_type": "markdown",
   "metadata": {},
   "source": [
    "## Step 6\n",
    "We are very close to the expected output. However, all of the stopwords are not listed there. **House of An** is  being treated as **House** and **An**. In this step, we will take a list of stop words (defined as a set of strings defined in the variable `stopwords`), and:\n",
    "\n",
    "1. Modify `lowerToStar` to not convert stopwords into `*` even though they do not start with an uppercase letter.\n",
    "\n",
    "2. Modify `combineWords` to keep only keywords with two or more words, and the first word of those keywords cannot be a stopword."
   ]
  },
  {
   "cell_type": "code",
   "execution_count": 16,
   "metadata": {},
   "outputs": [
    {
     "name": "stdout",
     "output_type": "stream",
     "text": [
      "['House of An', 'Euro Asian', 'Master Chef Helene Mama An']\n",
      "[]\n",
      "['Thanh Long in San Francisco', 'Euro Vietnamese']\n",
      "['Crustacean San Francisco', 'San Francisco Chronicle', 'Helene An the Mother of Fusion']\n",
      "['Elizabeth An', 'Crustacean Restaurant in Beverly Hills']\n",
      "[]\n"
     ]
    }
   ],
   "source": [
    "import re\n",
    "\n",
    "stopwords = set(['the', 'of', 'when', 'in'])\n",
    "\n",
    "def lowerToStar(words):\n",
    "    for w in words:\n",
    "        yield w if (w[0].isupper() or w.lower() in stopwords) else '*'\n",
    "\n",
    "def removeStars(words):\n",
    "    prev = None\n",
    "    for w in words:\n",
    "        if w != '*' or prev != '*':\n",
    "            yield w\n",
    "        prev = w\n",
    "\n",
    "def combineWords(words):\n",
    "    sublist = []\n",
    "    for w in words:\n",
    "        if w == '*':\n",
    "            if len(sublist) > 1:\n",
    "                yield ' '.join(sublist)\n",
    "            sublist = []\n",
    "        elif len(sublist) > 0 or w.lower() not in stopwords:\n",
    "            sublist.append(w)\n",
    "    if len(sublist) > 1:\n",
    "        yield ' '.join(sublist)\n",
    "\n",
    "for sentence in about.split('.'):\n",
    "    words = re.findall(r'\\w+', sentence)\n",
    "    print(list(combineWords(removeStars(lowerToStar(words)))))"
   ]
  },
  {
   "cell_type": "code",
   "execution_count": null,
   "metadata": {},
   "outputs": [],
   "source": []
  },
  {
   "cell_type": "markdown",
   "metadata": {},
   "source": [
    "## Step 7\n",
    "Finally, we would like to wrap the entire code in Step-6 into a generator, and call it directly on the input. You can simply copy `lowerToStar`, `removeStars`, and `extractKeywords` from your Step-6 here and run. No additional work needed."
   ]
  },
  {
   "cell_type": "code",
   "execution_count": 17,
   "metadata": {},
   "outputs": [
    {
     "data": {
      "text/plain": [
       "['House of An',\n",
       " 'Euro Asian',\n",
       " 'Master Chef Helene Mama An',\n",
       " 'Thanh Long in San Francisco',\n",
       " 'Euro Vietnamese',\n",
       " 'Crustacean San Francisco',\n",
       " 'San Francisco Chronicle',\n",
       " 'Helene An the Mother of Fusion',\n",
       " 'Elizabeth An',\n",
       " 'Crustacean Restaurant in Beverly Hills']"
      ]
     },
     "execution_count": 17,
     "metadata": {},
     "output_type": "execute_result"
    }
   ],
   "source": [
    "import re\n",
    "\n",
    "stopwords = set(['the', 'of', 'when', 'in'])\n",
    "\n",
    "\n",
    "def lowerToStar(words):\n",
    "    for w in words:\n",
    "        yield w if (w[0].isupper() or w.lower() in stopwords) else '*'\n",
    "\n",
    "def removeStars(words):\n",
    "    prev = None\n",
    "    for w in words:\n",
    "        if w != '*' or prev != '*':\n",
    "            yield w\n",
    "        prev = w\n",
    "\n",
    "def combineWords(words):\n",
    "    sublist = []\n",
    "    for w in words:\n",
    "        if w == '*':\n",
    "            if len(sublist) > 1:\n",
    "                yield ' '.join(sublist)\n",
    "            sublist = []\n",
    "        elif len(sublist) > 0 or w.lower() not in stopwords:\n",
    "            sublist.append(w)\n",
    "    if len(sublist) > 1:\n",
    "        yield ' '.join(sublist)\n",
    "\n",
    "def extractKeywords(about):\n",
    "    for sentence in about.split('.'):\n",
    "        words = re.findall(r'\\w+', sentence)\n",
    "        yield from combineWords(removeStars(lowerToStar(words)))\n",
    "\n",
    "list(extractKeywords(about))"
   ]
  },
  {
   "cell_type": "code",
   "execution_count": null,
   "metadata": {},
   "outputs": [],
   "source": []
  }
 ],
 "metadata": {
  "kernelspec": {
   "display_name": "Python 3",
   "language": "python",
   "name": "python3"
  },
  "language_info": {
   "codemirror_mode": {
    "name": "ipython",
    "version": 3
   },
   "file_extension": ".py",
   "mimetype": "text/x-python",
   "name": "python",
   "nbconvert_exporter": "python",
   "pygments_lexer": "ipython3",
   "version": "3.7.5"
  }
 },
 "nbformat": 4,
 "nbformat_minor": 2
}
